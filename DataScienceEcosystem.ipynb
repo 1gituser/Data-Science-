{
 "cells": [
  {
   "cell_type": "markdown",
   "id": "204af3d0-9d05-43a4-8d7f-2781b8c16e65",
   "metadata": {},
   "source": [
    "# Data Science Tools and Ecosystem\n"
   ]
  },
  {
   "cell_type": "markdown",
   "id": "96929ac9-ef14-4a58-a7d5-3de734977d34",
   "metadata": {},
   "source": [
    "## In this notebook, Data Science Tools and Ecosystem are summarized.\n"
   ]
  },
  {
   "cell_type": "markdown",
   "id": "722e0799-d29b-477d-880f-44d31ae0fd47",
   "metadata": {},
   "source": [
    "Some of the popular languages that Data Scientists use are:\n",
    "1. Python\n",
    "2. R\n",
    "3. Julia\n",
    "4. SQL\n",
    "5. Java\n",
    "6. Scala\n"
   ]
  },
  {
   "cell_type": "markdown",
   "id": "a13fa401-aa87-46cc-9a13-f501f1c43f4b",
   "metadata": {},
   "source": [
    "## Some of the commonly used libraries used by Data Scientists include:"
   ]
  },
  {
   "cell_type": "code",
   "execution_count": null,
   "id": "48cd5c4c-e2e8-46f5-963d-170a1a73bcf7",
   "metadata": {},
   "outputs": [],
   "source": []
  },
  {
   "cell_type": "markdown",
   "id": "c6e44b2b-c578-4bc5-bb83-9018cc5dbd96",
   "metadata": {},
   "source": [
    "1. Pandas\n",
    "2. Numpy\n",
    "3. SciPy\n",
    "4. Matpltlib\n",
    "5. Seaborn\n",
    "6. Plotly\n",
    "\n"
   ]
  },
  {
   "cell_type": "markdown",
   "id": "9d18173c-1c04-4832-b94b-7aef27a45650",
   "metadata": {},
   "source": [
    "# Data Science Tools"
   ]
  },
  {
   "cell_type": "markdown",
   "id": "5d0a1f13-4b36-4d6c-8f8c-2179ec42cb0a",
   "metadata": {},
   "source": [
    "|Data Science Tools|\n",
    "|-|\n",
    "|Jupyter Notebook|\n",
    "|R Studio|\n",
    "|Visual Studio Code|"
   ]
  },
  {
   "cell_type": "code",
   "execution_count": 3,
   "id": "7b708109-7893-48d0-8b24-c9733725f58f",
   "metadata": {},
   "outputs": [
    {
     "data": {
      "text/html": [
       "<style>\n",
       "table{float:left}\n",
       "</style>\n"
      ],
      "text/plain": [
       "<IPython.core.display.HTML object>"
      ]
     },
     "metadata": {},
     "output_type": "display_data"
    }
   ],
   "source": [
    "%%html\n",
    "<style>\n",
    "table{float:left}\n",
    "</style>"
   ]
  },
  {
   "cell_type": "markdown",
   "id": "8446a9a7-2d88-40f5-9735-f119100ed1e7",
   "metadata": {},
   "source": [
    "### Below are a few examples of evaluating arithmetic expressions in Python"
   ]
  },
  {
   "cell_type": "code",
   "execution_count": 6,
   "id": "8ff928be-4d94-4057-95aa-681140f17e19",
   "metadata": {},
   "outputs": [
    {
     "name": "stdout",
     "output_type": "stream",
     "text": [
      "8\n",
      "5\n",
      "24\n",
      "5.0\n",
      "14\n",
      "8\n",
      "1\n"
     ]
    }
   ],
   "source": [
    "\n",
    "# Basic arithmetic operations\n",
    "print(5 + 3)  # Addition\n",
    "print(7 - 2)  # Subtraction\n",
    "print(4 * 6)  # Multiplication\n",
    "print(10 / 2)  # Division\n",
    "\n",
    "# Order of operations (PEMDAS/BODMAS)\n",
    "print(2 * (3 + 4))  # Parentheses, then multiplication\n",
    "\n",
    "# Exponents\n",
    "print(2 ** 3)  # 2 raised to the power of 3\n",
    "\n",
    "# Modulus (remainder)\n",
    "print(10 % 3)  # Remainder when 10 is divided by 3"
   ]
  },
  {
   "cell_type": "code",
   "execution_count": null,
   "id": "62feac91-b5e9-4139-bc7f-4fd37fd649a7",
   "metadata": {},
   "outputs": [],
   "source": []
  },
  {
   "cell_type": "code",
   "execution_count": null,
   "id": "ecc32881-fe4d-44d2-b34b-28a83c728208",
   "metadata": {},
   "outputs": [],
   "source": []
  },
  {
   "cell_type": "markdown",
   "id": "bb15884c-bda4-470d-b16f-b54d363e0c3c",
   "metadata": {},
   "source": [
    "### This a simple arithmetic expression to mutiply then add integers:\n"
   ]
  },
  {
   "cell_type": "code",
   "execution_count": 7,
   "id": "1577fa5e-ceec-4b33-a30a-1dc1f3819124",
   "metadata": {},
   "outputs": [
    {
     "data": {
      "text/plain": [
       "17"
      ]
     },
     "execution_count": 7,
     "metadata": {},
     "output_type": "execute_result"
    }
   ],
   "source": [
    "(3*4)+5"
   ]
  },
  {
   "cell_type": "markdown",
   "id": "42b50457-d81c-4c2d-9343-8e3cc0d2d85a",
   "metadata": {},
   "source": [
    "### Tis will convert 200 minutes to hours by diving by 60"
   ]
  },
  {
   "cell_type": "code",
   "execution_count": 8,
   "id": "2bbc8ac2-b259-4116-a982-00a94c3620a5",
   "metadata": {},
   "outputs": [
    {
     "data": {
      "text/plain": [
       "3.3333333333333335"
      ]
     },
     "execution_count": 8,
     "metadata": {},
     "output_type": "execute_result"
    }
   ],
   "source": [
    "200/60"
   ]
  },
  {
   "cell_type": "markdown",
   "id": "cb627f3a-a523-4632-9ab3-1433dce9d334",
   "metadata": {},
   "source": [
    "### ***Objectives that this notebook covered:***\n",
    "* Languages in Data Science\n",
    "* Libraries in Data Science\n",
    "* Tools in Data Science\n",
    "* Arithmetic Expressions\n",
    "* Minutes into Hours Conversion :)"
   ]
  },
  {
   "cell_type": "markdown",
   "id": "314a02c3-388d-4dea-adab-3a6e5c8a6acc",
   "metadata": {},
   "source": [
    "# Author\n",
    "Rincewind20"
   ]
  },
  {
   "cell_type": "code",
   "execution_count": null,
   "id": "d3be6771-c73d-4dcf-8783-9c7c8506bc93",
   "metadata": {},
   "outputs": [],
   "source": []
  },
  {
   "cell_type": "code",
   "execution_count": null,
   "id": "51208e67-f5d8-4c57-b425-993ae8d16bea",
   "metadata": {},
   "outputs": [],
   "source": []
  },
  {
   "cell_type": "code",
   "execution_count": null,
   "id": "e0f2803d-279e-419c-b003-638697fe9961",
   "metadata": {},
   "outputs": [],
   "source": []
  },
  {
   "cell_type": "code",
   "execution_count": null,
   "id": "e683bd2a-e029-475c-9737-34aa0eeec625",
   "metadata": {},
   "outputs": [],
   "source": []
  },
  {
   "cell_type": "code",
   "execution_count": null,
   "id": "c255e121-517f-49a7-b28c-4faecb179b8e",
   "metadata": {},
   "outputs": [],
   "source": []
  },
  {
   "cell_type": "code",
   "execution_count": null,
   "id": "25dfba2a-7b00-4524-8f03-de9db63a3094",
   "metadata": {},
   "outputs": [],
   "source": []
  },
  {
   "cell_type": "code",
   "execution_count": null,
   "id": "22557b00-36a9-48db-a9c9-0681d8dbf518",
   "metadata": {},
   "outputs": [],
   "source": []
  },
  {
   "cell_type": "code",
   "execution_count": null,
   "id": "36ef54ea-68c2-4e57-a048-bd00f41e2e1c",
   "metadata": {},
   "outputs": [],
   "source": []
  },
  {
   "cell_type": "code",
   "execution_count": null,
   "id": "594d2e98-4ce0-4578-a0c5-f833b3df266c",
   "metadata": {},
   "outputs": [],
   "source": []
  },
  {
   "cell_type": "code",
   "execution_count": null,
   "id": "491368b5-f886-442f-b289-717f0a2c29b5",
   "metadata": {},
   "outputs": [],
   "source": []
  },
  {
   "cell_type": "code",
   "execution_count": null,
   "id": "5d26370d-27c1-4ea4-8544-648cfb8f71d9",
   "metadata": {},
   "outputs": [],
   "source": []
  },
  {
   "cell_type": "code",
   "execution_count": null,
   "id": "5325e018-e431-440c-bfc1-00c25a7c8298",
   "metadata": {},
   "outputs": [],
   "source": []
  },
  {
   "cell_type": "code",
   "execution_count": null,
   "id": "02951c2c-4e7b-420f-b680-0caed7440a32",
   "metadata": {},
   "outputs": [],
   "source": []
  },
  {
   "cell_type": "code",
   "execution_count": null,
   "id": "e9c17413-dc6a-4153-a566-e9e12d6917e4",
   "metadata": {},
   "outputs": [],
   "source": []
  },
  {
   "cell_type": "code",
   "execution_count": null,
   "id": "c9a67d2b-ceb3-469c-bb5a-097e70adae9c",
   "metadata": {},
   "outputs": [],
   "source": []
  },
  {
   "cell_type": "code",
   "execution_count": null,
   "id": "6c3768cd-b925-4068-af96-7eec529879c3",
   "metadata": {},
   "outputs": [],
   "source": []
  }
 ],
 "metadata": {
  "kernelspec": {
   "display_name": "Python 3 (ipykernel)",
   "language": "python",
   "name": "python3"
  },
  "language_info": {
   "codemirror_mode": {
    "name": "ipython",
    "version": 3
   },
   "file_extension": ".py",
   "mimetype": "text/x-python",
   "name": "python",
   "nbconvert_exporter": "python",
   "pygments_lexer": "ipython3",
   "version": "3.12.4"
  }
 },
 "nbformat": 4,
 "nbformat_minor": 5
}
